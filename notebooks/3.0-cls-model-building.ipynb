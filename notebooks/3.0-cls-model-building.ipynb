{
 "cells": [
  {
   "cell_type": "markdown",
   "metadata": {},
   "source": [
    "I am going to test three different machine learning algorithms, a random forest classifier, a gradient boosting classifier, and an adaboost classifier.  The reason that I am choosing these is that they tend to perform well on classification tasks without excessive computation time, as would likely be the case in using SVMs.  They also do not typically need as much data to perform well as some other techniques, particularly neural networks.  One of the biggest downsides to using these classifiers is that they do not handle nans or text data easily, which is why I used naive bayes on the text columns as a work around.  Additionally, one can make feature importance plots using these algorithms, which could be useful if Taarifa would like to have a sense of what is likely to predict a breakdown."
   ]
  },
  {
   "cell_type": "code",
   "execution_count": 48,
   "metadata": {
    "collapsed": false
   },
   "outputs": [],
   "source": [
    "import pandas as pd\n",
    "import numpy as np\n",
    "from sklearn.ensemble import RandomForestClassifier, GradientBoostingClassifier, AdaBoostClassifier\n",
    "from sklearn.model_selection import train_test_split\n",
    "\n",
    "np.random.seed(42)"
   ]
  },
  {
   "cell_type": "code",
   "execution_count": 49,
   "metadata": {
    "collapsed": false
   },
   "outputs": [
    {
     "name": "stdout",
     "output_type": "stream",
     "text": [
      "<class 'pandas.core.frame.DataFrame'>\n",
      "RangeIndex: 59400 entries, 0 to 59399\n",
      "Data columns (total 12 columns):\n",
      "Unnamed: 0           59400 non-null int64\n",
      "id                   59400 non-null int64\n",
      "amount_tsh           59400 non-null float64\n",
      "gps_height           59400 non-null int64\n",
      "longitude            59400 non-null float64\n",
      "latitude             59400 non-null float64\n",
      "num_private          59400 non-null int64\n",
      "public_meeting       59400 non-null bool\n",
      "permit               59400 non-null bool\n",
      "construction_year    59400 non-null float64\n",
      "status_group         59400 non-null object\n",
      "non functional       59400 non-null float64\n",
      "dtypes: bool(2), float64(5), int64(4), object(1)\n",
      "memory usage: 4.6+ MB\n"
     ]
    }
   ],
   "source": [
    "train_df = pd.read_csv('../data/processed/clean_train_df.csv')\n",
    "test_df = pd.read_csv('../data/processed/clean_test_df.csv')\n",
    "train_df.drop('date_recorded', axis=1, inplace=True)\n",
    "train_df.info()\n",
    "\n",
    "train_y = train_df.pop('status_group').values\n",
    "train_X = train_df.values\n",
    "test_X = test_df.values"
   ]
  },
  {
   "cell_type": "code",
   "execution_count": 50,
   "metadata": {
    "collapsed": false
   },
   "outputs": [],
   "source": [
    "model_train_X, model_valid_X, model_train_y, model_valid_y = train_test_split(train_X, train_y)"
   ]
  },
  {
   "cell_type": "code",
   "execution_count": 51,
   "metadata": {
    "collapsed": false
   },
   "outputs": [
    {
     "data": {
      "text/plain": [
       "0.74410774410774416"
      ]
     },
     "execution_count": 51,
     "metadata": {},
     "output_type": "execute_result"
    }
   ],
   "source": [
    "model_rf = RandomForestClassifier()\n",
    "model_rf.fit(model_train_X, model_train_y)\n",
    "model_rf.score(model_valid_X, model_valid_y)"
   ]
  },
  {
   "cell_type": "code",
   "execution_count": 52,
   "metadata": {
    "collapsed": false
   },
   "outputs": [
    {
     "data": {
      "text/plain": [
       "0.75218855218855218"
      ]
     },
     "execution_count": 52,
     "metadata": {},
     "output_type": "execute_result"
    }
   ],
   "source": [
    "model_gb = GradientBoostingClassifier()\n",
    "model_gb.fit(model_train_X, model_train_y)\n",
    "model_gb.score(model_valid_X, model_valid_y)"
   ]
  },
  {
   "cell_type": "code",
   "execution_count": 53,
   "metadata": {
    "collapsed": false
   },
   "outputs": [
    {
     "data": {
      "text/plain": [
       "0.74922558922558924"
      ]
     },
     "execution_count": 53,
     "metadata": {},
     "output_type": "execute_result"
    }
   ],
   "source": [
    "model_ab = AdaBoostClassifier()\n",
    "model_ab.fit(model_train_X, model_train_y)\n",
    "model_ab.score(model_valid_X, model_valid_y)"
   ]
  },
  {
   "cell_type": "markdown",
   "metadata": {},
   "source": [
    "Gb w/o construction_year = .745"
   ]
  },
  {
   "cell_type": "code",
   "execution_count": null,
   "metadata": {
    "collapsed": true
   },
   "outputs": [],
   "source": []
  }
 ],
 "metadata": {
  "anaconda-cloud": {},
  "kernelspec": {
   "display_name": "Python [default]",
   "language": "python",
   "name": "python2"
  },
  "language_info": {
   "codemirror_mode": {
    "name": "ipython",
    "version": 2
   },
   "file_extension": ".py",
   "mimetype": "text/x-python",
   "name": "python",
   "nbconvert_exporter": "python",
   "pygments_lexer": "ipython2",
   "version": "2.7.12"
  }
 },
 "nbformat": 4,
 "nbformat_minor": 1
}
