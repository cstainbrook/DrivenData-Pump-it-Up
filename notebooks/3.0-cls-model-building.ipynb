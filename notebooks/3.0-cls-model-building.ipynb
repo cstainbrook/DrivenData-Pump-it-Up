{
 "cells": [
  {
   "cell_type": "markdown",
   "metadata": {},
   "source": [
    "I am going to test three different machine learning algorithms, a random forest classifier, a gradient boosting classifier, and an adaboost classifier.  The reason that I am choosing these is that they tend to perform well on classification tasks without excessive computation time, as could be the case if using SVMs.  They also do not typically need as much data to perform well as some other techniques, particularly neural networks.  One of the biggest downsides to using these classifiers is that they do not handle nans or text data easily, which is why I used naive bayes on the text columns as a work around.  Additionally, one can make feature importance plots using these algorithms, which could be useful if Taarifa would like to have a sense of what is likely to predict a breakdown.  I am going to tune the gradient boosting model, as this is usually the best performer and was the best performer when using the default sklearn models."
   ]
  },
  {
   "cell_type": "code",
   "execution_count": 25,
   "metadata": {
    "collapsed": false
   },
   "outputs": [],
   "source": [
    "import pandas as pd\n",
    "import numpy as np\n",
    "from sklearn.ensemble import RandomForestClassifier, GradientBoostingClassifier, AdaBoostClassifier\n",
    "from sklearn.model_selection import train_test_split, GridSearchCV\n",
    "\n",
    "np.random.seed(42)"
   ]
  },
  {
   "cell_type": "code",
   "execution_count": 26,
   "metadata": {
    "collapsed": false
   },
   "outputs": [
    {
     "name": "stdout",
     "output_type": "stream",
     "text": [
      "<class 'pandas.core.frame.DataFrame'>\n",
      "RangeIndex: 59400 entries, 0 to 59399\n",
      "Data columns (total 81 columns):\n",
      "id                                    59400 non-null int64\n",
      "amount_tsh                            59400 non-null float64\n",
      "gps_height                            59400 non-null int64\n",
      "longitude                             59400 non-null float64\n",
      "latitude                              59400 non-null float64\n",
      "num_private                           59400 non-null int64\n",
      "population                            59400 non-null float64\n",
      "public_meeting                        59400 non-null bool\n",
      "permit                                59400 non-null bool\n",
      "construction_year                     59400 non-null float64\n",
      "status_group                          59400 non-null object\n",
      "dwe                                   59400 non-null float64\n",
      "government                            59400 non-null float64\n",
      "hesawa                                59400 non-null float64\n",
      "rwe                                   59400 non-null float64\n",
      "commu                                 59400 non-null float64\n",
      "danida                                59400 non-null float64\n",
      "district council                      59400 non-null float64\n",
      "kkkt                                  59400 non-null float64\n",
      "central government                    59400 non-null float64\n",
      "tcrs                                  59400 non-null float64\n",
      "basin_internal                        59400 non-null float64\n",
      "basin_lake nyasa                      59400 non-null float64\n",
      "basin_lake rukwa                      59400 non-null float64\n",
      "basin_lake tanganyika                 59400 non-null float64\n",
      "basin_lake victoria                   59400 non-null float64\n",
      "basin_pangani                         59400 non-null float64\n",
      "basin_rufiji                          59400 non-null float64\n",
      "basin_ruvuma / southern coast         59400 non-null float64\n",
      "basin_wami / ruvu                     59400 non-null float64\n",
      "extraction_type_class_gravity         59400 non-null float64\n",
      "extraction_type_class_handpump        59400 non-null float64\n",
      "extraction_type_class_motorpump       59400 non-null float64\n",
      "extraction_type_class_other           59400 non-null float64\n",
      "extraction_type_class_rope pump       59400 non-null float64\n",
      "extraction_type_class_submersible     59400 non-null float64\n",
      "extraction_type_class_wind-powered    59400 non-null float64\n",
      "management_company                    59400 non-null float64\n",
      "management_other                      59400 non-null float64\n",
      "management_other - school             59400 non-null float64\n",
      "management_parastatal                 59400 non-null float64\n",
      "management_private operator           59400 non-null float64\n",
      "management_trust                      59400 non-null float64\n",
      "management_unknown                    59400 non-null float64\n",
      "management_vwc                        59400 non-null float64\n",
      "management_water authority            59400 non-null float64\n",
      "management_water board                59400 non-null float64\n",
      "management_wua                        59400 non-null float64\n",
      "management_wug                        59400 non-null float64\n",
      "water_quality_coloured                59400 non-null float64\n",
      "water_quality_fluoride                59400 non-null float64\n",
      "water_quality_fluoride abandoned      59400 non-null float64\n",
      "water_quality_milky                   59400 non-null float64\n",
      "water_quality_salty                   59400 non-null float64\n",
      "water_quality_salty abandoned         59400 non-null float64\n",
      "water_quality_soft                    59400 non-null float64\n",
      "water_quality_unknown                 59400 non-null float64\n",
      "quantity_dry                          59400 non-null float64\n",
      "quantity_enough                       59400 non-null float64\n",
      "quantity_insufficient                 59400 non-null float64\n",
      "quantity_seasonal                     59400 non-null float64\n",
      "quantity_unknown                      59400 non-null float64\n",
      "payment_never pay                     59400 non-null float64\n",
      "payment_other                         59400 non-null float64\n",
      "payment_pay annually                  59400 non-null float64\n",
      "payment_pay monthly                   59400 non-null float64\n",
      "payment_pay per bucket                59400 non-null float64\n",
      "payment_pay when scheme fails         59400 non-null float64\n",
      "payment_unknown                       59400 non-null float64\n",
      "source_dam                            59400 non-null float64\n",
      "source_hand dtw                       59400 non-null float64\n",
      "source_lake                           59400 non-null float64\n",
      "source_machine dbh                    59400 non-null float64\n",
      "source_other                          59400 non-null float64\n",
      "source_rainwater harvesting           59400 non-null float64\n",
      "source_river                          59400 non-null float64\n",
      "source_shallow well                   59400 non-null float64\n",
      "source_spring                         59400 non-null float64\n",
      "source_unknown                        59400 non-null float64\n",
      "non functional                        59400 non-null float64\n",
      "functional needs repair               59400 non-null float64\n",
      "dtypes: bool(2), float64(75), int64(3), object(1)\n",
      "memory usage: 35.9+ MB\n",
      "<class 'pandas.core.frame.DataFrame'>\n",
      "RangeIndex: 14850 entries, 0 to 14849\n",
      "Data columns (total 80 columns):\n",
      "id                                    14850 non-null int64\n",
      "amount_tsh                            14850 non-null float64\n",
      "gps_height                            14850 non-null int64\n",
      "longitude                             14850 non-null float64\n",
      "latitude                              14850 non-null float64\n",
      "num_private                           14850 non-null int64\n",
      "population                            14850 non-null float64\n",
      "public_meeting                        14850 non-null bool\n",
      "permit                                14850 non-null bool\n",
      "construction_year                     14850 non-null float64\n",
      "dwe                                   14850 non-null float64\n",
      "government                            14850 non-null float64\n",
      "hesawa                                14850 non-null float64\n",
      "rwe                                   14850 non-null float64\n",
      "commu                                 14850 non-null float64\n",
      "danida                                14850 non-null float64\n",
      "district council                      14850 non-null float64\n",
      "kkkt                                  14850 non-null float64\n",
      "central government                    14850 non-null float64\n",
      "tcrs                                  14850 non-null float64\n",
      "basin_internal                        14850 non-null float64\n",
      "basin_lake nyasa                      14850 non-null float64\n",
      "basin_lake rukwa                      14850 non-null float64\n",
      "basin_lake tanganyika                 14850 non-null float64\n",
      "basin_lake victoria                   14850 non-null float64\n",
      "basin_pangani                         14850 non-null float64\n",
      "basin_rufiji                          14850 non-null float64\n",
      "basin_ruvuma / southern coast         14850 non-null float64\n",
      "basin_wami / ruvu                     14850 non-null float64\n",
      "extraction_type_class_gravity         14850 non-null float64\n",
      "extraction_type_class_handpump        14850 non-null float64\n",
      "extraction_type_class_motorpump       14850 non-null float64\n",
      "extraction_type_class_other           14850 non-null float64\n",
      "extraction_type_class_rope pump       14850 non-null float64\n",
      "extraction_type_class_submersible     14850 non-null float64\n",
      "extraction_type_class_wind-powered    14850 non-null float64\n",
      "management_company                    14850 non-null float64\n",
      "management_other                      14850 non-null float64\n",
      "management_other - school             14850 non-null float64\n",
      "management_parastatal                 14850 non-null float64\n",
      "management_private operator           14850 non-null float64\n",
      "management_trust                      14850 non-null float64\n",
      "management_unknown                    14850 non-null float64\n",
      "management_vwc                        14850 non-null float64\n",
      "management_water authority            14850 non-null float64\n",
      "management_water board                14850 non-null float64\n",
      "management_wua                        14850 non-null float64\n",
      "management_wug                        14850 non-null float64\n",
      "water_quality_coloured                14850 non-null float64\n",
      "water_quality_fluoride                14850 non-null float64\n",
      "water_quality_fluoride abandoned      14850 non-null float64\n",
      "water_quality_milky                   14850 non-null float64\n",
      "water_quality_salty                   14850 non-null float64\n",
      "water_quality_salty abandoned         14850 non-null float64\n",
      "water_quality_soft                    14850 non-null float64\n",
      "water_quality_unknown                 14850 non-null float64\n",
      "quantity_dry                          14850 non-null float64\n",
      "quantity_enough                       14850 non-null float64\n",
      "quantity_insufficient                 14850 non-null float64\n",
      "quantity_seasonal                     14850 non-null float64\n",
      "quantity_unknown                      14850 non-null float64\n",
      "payment_never pay                     14850 non-null float64\n",
      "payment_other                         14850 non-null float64\n",
      "payment_pay annually                  14850 non-null float64\n",
      "payment_pay monthly                   14850 non-null float64\n",
      "payment_pay per bucket                14850 non-null float64\n",
      "payment_pay when scheme fails         14850 non-null float64\n",
      "payment_unknown                       14850 non-null float64\n",
      "source_dam                            14850 non-null float64\n",
      "source_hand dtw                       14850 non-null float64\n",
      "source_lake                           14850 non-null float64\n",
      "source_machine dbh                    14850 non-null float64\n",
      "source_other                          14850 non-null float64\n",
      "source_rainwater harvesting           14850 non-null float64\n",
      "source_river                          14850 non-null float64\n",
      "source_shallow well                   14850 non-null float64\n",
      "source_spring                         14850 non-null float64\n",
      "source_unknown                        14850 non-null float64\n",
      "non functional                        14850 non-null float64\n",
      "functional needs repair               14850 non-null float64\n",
      "dtypes: bool(2), float64(75), int64(3)\n",
      "memory usage: 8.9 MB\n"
     ]
    }
   ],
   "source": [
    "train_df = pd.read_csv('../data/processed/clean_train_dummies.csv')\n",
    "test_df = pd.read_csv('../data/processed/clean_test_dummies.csv')\n",
    "train_df.drop('date_recorded', axis=1, inplace=True)\n",
    "test_df.drop('date_recorded', axis=1, inplace=True)\n",
    "train_df.info()\n",
    "test_df.info()\n",
    "\n",
    "train_y = train_df.pop('status_group').values\n",
    "train_X = train_df.values\n",
    "test_X = test_df.values"
   ]
  },
  {
   "cell_type": "code",
   "execution_count": 27,
   "metadata": {
    "collapsed": false
   },
   "outputs": [],
   "source": [
    "model_train_X, model_valid_X, model_train_y, model_valid_y = train_test_split(train_X, train_y)"
   ]
  },
  {
   "cell_type": "code",
   "execution_count": 4,
   "metadata": {
    "collapsed": false
   },
   "outputs": [
    {
     "data": {
      "text/plain": [
       "0.76693602693602692"
      ]
     },
     "execution_count": 4,
     "metadata": {},
     "output_type": "execute_result"
    }
   ],
   "source": [
    "model_rf = RandomForestClassifier()\n",
    "model_rf.fit(model_train_X, model_train_y)\n",
    "model_rf.score(model_valid_X, model_valid_y)"
   ]
  },
  {
   "cell_type": "code",
   "execution_count": 28,
   "metadata": {
    "collapsed": false
   },
   "outputs": [
    {
     "data": {
      "text/plain": [
       "0.81528619528619528"
      ]
     },
     "execution_count": 28,
     "metadata": {},
     "output_type": "execute_result"
    }
   ],
   "source": [
    "model_gb = GradientBoostingClassifier(n_estimators=250, max_depth=10, learning_rate=.1)\n",
    "model_gb.fit(model_train_X, model_train_y)\n",
    "model_gb.score(model_valid_X, model_valid_y)"
   ]
  },
  {
   "cell_type": "code",
   "execution_count": 6,
   "metadata": {
    "collapsed": false
   },
   "outputs": [
    {
     "data": {
      "text/plain": [
       "0.76033670033670031"
      ]
     },
     "execution_count": 6,
     "metadata": {},
     "output_type": "execute_result"
    }
   ],
   "source": [
    "model_ab = AdaBoostClassifier()\n",
    "model_ab.fit(model_train_X, model_train_y)\n",
    "model_ab.score(model_valid_X, model_valid_y)"
   ]
  },
  {
   "cell_type": "markdown",
   "metadata": {},
   "source": [
    "Gb w/o construction_year = .745\n",
    "Gb w/ construction_year = .752\n",
    "Gb w/ construction and dummies = .7802\n",
    "Gb w/ construction, dummies, installer = .7804\n",
    "GB w/ construction, dummies, installer, population = .7858\n",
    "Gb w/ construction, dummies, installer, population, quantity = .8094\n",
    "Gb w/ construction, dummies, installer, population, quantity, payment = .8112\n",
    "Gb w/ construction, dummies, installer, population, quantity, payment = .8152"
   ]
  },
  {
   "cell_type": "code",
   "execution_count": 29,
   "metadata": {
    "collapsed": false
   },
   "outputs": [],
   "source": [
    "test_df['status_group'] = model_gb.predict(test_X)\n",
    "submission = test_df[['id', 'status_group']]\n",
    "submission.to_csv('../models/submission.csv', index=False)"
   ]
  },
  {
   "cell_type": "code",
   "execution_count": null,
   "metadata": {
    "collapsed": true
   },
   "outputs": [],
   "source": []
  }
 ],
 "metadata": {
  "anaconda-cloud": {},
  "kernelspec": {
   "display_name": "Python [default]",
   "language": "python",
   "name": "python2"
  },
  "language_info": {
   "codemirror_mode": {
    "name": "ipython",
    "version": 2
   },
   "file_extension": ".py",
   "mimetype": "text/x-python",
   "name": "python",
   "nbconvert_exporter": "python",
   "pygments_lexer": "ipython2",
   "version": "2.7.12"
  }
 },
 "nbformat": 4,
 "nbformat_minor": 1
}
