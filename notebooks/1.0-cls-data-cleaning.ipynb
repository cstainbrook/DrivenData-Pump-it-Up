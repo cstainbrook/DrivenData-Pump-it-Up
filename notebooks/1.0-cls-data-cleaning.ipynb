{
 "cells": [
  {
   "cell_type": "code",
   "execution_count": 1,
   "metadata": {
    "collapsed": true
   },
   "outputs": [],
   "source": [
    "import pandas as pd\n",
    "import numpy as np"
   ]
  },
  {
   "cell_type": "code",
   "execution_count": 2,
   "metadata": {
    "collapsed": true
   },
   "outputs": [],
   "source": [
    "train_values = pd.read_csv('../data/raw/training_values.csv')\n",
    "train_labels = pd.read_csv('../data/raw/training_labels.csv')\n",
    "train_df = train_values.merge(train_labels, on='id')\n",
    "\n",
    "test_values = pd.read_csv('../data/raw/test_values.csv')"
   ]
  },
  {
   "cell_type": "markdown",
   "metadata": {},
   "source": [
    "Many features have illogical values (e.g. '0' as the name of the funder).  I am replacing these illogical values with nans, as the values were likely entered as a placeholder for 'unknown'."
   ]
  },
  {
   "cell_type": "code",
   "execution_count": 3,
   "metadata": {
    "collapsed": false
   },
   "outputs": [],
   "source": [
    "clean_train = train_df\n",
    "clean_test = test_values\n",
    "\n",
    "for df in [clean_train, clean_test]:\n",
    "    df['funder'].replace('0', np.nan, inplace=True)\n",
    "    df['installer'].replace('0', np.nan, inplace=True)\n",
    "    df['longitude'].replace(0, np.nan, inplace=True)\n",
    "    df['latitude'].replace(-0.00000002, np.nan, inplace=True)\n",
    "    df['population'].replace(0, np.nan, inplace=True)\n",
    "    df['construction_year'].replace(0, np.nan, inplace=True)"
   ]
  },
  {
   "cell_type": "markdown",
   "metadata": {},
   "source": [
    "Some of the test features contain different conventions for capitalization (e.g. District Council vs. District council).  Thus, I am making all text values lowercase to ensure entries are consistent."
   ]
  },
  {
   "cell_type": "code",
   "execution_count": 4,
   "metadata": {
    "collapsed": true
   },
   "outputs": [],
   "source": [
    "for df in [clean_train, clean_test]:\n",
    "    for col in df:\n",
    "        if df[col].dtype == 'O' and col not in ['permit', 'public_meeting']:\n",
    "            df[col] = df[col].str.lower()"
   ]
  },
  {
   "cell_type": "markdown",
   "metadata": {},
   "source": [
    "Making the date recorded datetime, so that alogrithms can split on before/after a certain date."
   ]
  },
  {
   "cell_type": "code",
   "execution_count": 5,
   "metadata": {
    "collapsed": true
   },
   "outputs": [],
   "source": [
    "clean_train['date_recorded'] = pd.to_datetime(clean_train['date_recorded'])\n",
    "clean_test['date_recorded'] = pd.to_datetime(clean_test['date_recorded'])"
   ]
  },
  {
   "cell_type": "markdown",
   "metadata": {},
   "source": [
    "Making new column that aggregates all other text columns.  This will be passed into a naive bayes classifier to be used as a feature later on.  The goal of using this technique is to capture some of the signal held by these columns without making dummies for all of them.  Not all columns are included, as some seem to add no new information.  The recorded_by column has the same value for every entry, thus is adding no information."
   ]
  },
  {
   "cell_type": "code",
   "execution_count": 6,
   "metadata": {
    "collapsed": false
   },
   "outputs": [],
   "source": [
    "clean_train['text_cols'] = clean_train[['funder', 'installer', 'wpt_name', 'basin', 'subvillage', 'region', 'lga', 'ward', 'scheme_management', 'scheme_name', 'extraction_type', 'management', 'management_group', 'payment', 'payment_type', 'water_quality', 'quality_group', 'quantity', 'source', 'source_type', 'waterpoint_type']].values.tolist()\n",
    "clean_train.drop(['funder', 'installer', 'wpt_name', 'basin', 'subvillage', 'region', 'lga', 'ward', 'scheme_management', 'scheme_name', 'extraction_type', 'management', 'management_group', 'payment', 'payment_type', 'water_quality', 'quality_group', 'quantity', 'source', 'source_type', 'waterpoint_type', 'recorded_by', 'extraction_type_group', 'extraction_type_class', 'quantity_group', 'source_class', 'waterpoint_type_group', 'region_code', 'district_code'], axis=1, inplace=True)\n",
    "\n",
    "clean_test['text_cols'] = clean_test[['funder', 'installer', 'wpt_name', 'basin', 'subvillage', 'region', 'lga', 'ward', 'scheme_management', 'scheme_name', 'extraction_type', 'management', 'management_group', 'payment', 'payment_type', 'water_quality', 'quality_group', 'quantity', 'source', 'source_type', 'waterpoint_type']].values.tolist()\n",
    "clean_test.drop(['funder', 'installer', 'wpt_name', 'basin', 'subvillage', 'region', 'lga', 'ward', 'scheme_management', 'scheme_name', 'extraction_type', 'management', 'management_group', 'payment', 'payment_type', 'water_quality', 'quality_group', 'quantity', 'source', 'source_type', 'waterpoint_type', 'recorded_by', 'extraction_type_group', 'extraction_type_class', 'quantity_group', 'source_class', 'waterpoint_type_group', 'region_code', 'district_code'], axis=1, inplace=True)"
   ]
  },
  {
   "cell_type": "code",
   "execution_count": 7,
   "metadata": {
    "collapsed": false
   },
   "outputs": [],
   "source": [
    "clean_train['text_cols'] = clean_train['text_cols'].map(lambda x: ' '.join(str(word) for word in x))\n",
    "clean_test['text_cols'] = clean_test['text_cols'].map(lambda x: ' '.join(str(word) for word in x))"
   ]
  },
  {
   "cell_type": "markdown",
   "metadata": {
    "collapsed": true
   },
   "source": [
    "All columns other than 'text_cols' are now numerical.  The following is predicting the class of the well based on the text columns using naive bayes."
   ]
  },
  {
   "cell_type": "code",
   "execution_count": 8,
   "metadata": {
    "collapsed": false
   },
   "outputs": [],
   "source": [
    "from sklearn.model_selection import train_test_split\n",
    "\n",
    "naive_y = clean_train['status_group'].values\n",
    "naive_X = clean_train['text_cols'].values\n",
    "naive_X_train, naive_X_test, naive_y_train, naive_y_test = train_test_split(naive_X, naive_y)"
   ]
  },
  {
   "cell_type": "code",
   "execution_count": 13,
   "metadata": {
    "collapsed": false
   },
   "outputs": [],
   "source": [
    "from nltk.stem.snowball import SnowballStemmer\n",
    "from nltk.stem.porter import PorterStemmer\n",
    "from nltk.stem.wordnet import WordNetLemmatizer\n",
    "from nltk.tokenize import word_tokenize\n",
    "\n",
    "def tokenize_snow(doc):\n",
    "    snowball = SnowballStemmer('english')\n",
    "    return [snowball.stem(word) for word in word_tokenize(doc.lower())]\n",
    "\n",
    "def tokenize_port(doc):\n",
    "    porter = PorterStemmer()\n",
    "    return [porter.stem(word) for word in word_tokenize(doc.lower())]\n",
    "\n",
    "def tokenize_wordnet(doc):\n",
    "    word_net = WordNetLemmatizer()\n",
    "    return [word_net.lemmatize(word) for word in word_tokenize(doc.lower())]"
   ]
  },
  {
   "cell_type": "code",
   "execution_count": null,
   "metadata": {
    "collapsed": true
   },
   "outputs": [],
   "source": [
    "from sklearn.feature_extraction.text import TfidfVectorizer\n",
    "from sklearn.naive_bayes import MultinomialNB\n",
    "\n",
    "def make_model(tokenize_func):\n",
    "    vectorizer = TfidfVectorizer(stop_words='english', tokenizer=tokenize_func)\n",
    "    tfidf_vectorized = vectorizer.fit_transform(naive_X_train)\n",
    "    model = MultinomialNB()\n",
    "    model.fit(tfidf_vectorized, naive_y_train)\n",
    "    return model, vectorizer\n",
    "\n",
    "def compare_models(list_models, list_vectorizers):\n",
    "    i = 1\n",
    "    for model, vect in zip(list_models, list_vectorizers):\n",
    "        preds = model.predict(vect.transform(naive_X_test))\n",
    "        print 'Model {}\\'s Accuracy: {}'.format(i, accuracy_score(naive_y_test, preds))\n",
    "        i += 1\n",
    "\n",
    "model_snow, vect_snow = make_model(tokenize_snow)\n",
    "model_port, vect_port = make_model(tokenize_port)\n",
    "model_wordnet, vect_wordnet = make_model(tokenize_wordnet)\n",
    "\n",
    "models = [model_snow, model_port, model_wordnet]\n",
    "vectorizers = [vect_snow, vect_port, vect_wordnet]\n",
    "compare_models(models, vectorizers)"
   ]
  },
  {
   "cell_type": "code",
   "execution_count": null,
   "metadata": {
    "collapsed": true
   },
   "outputs": [],
   "source": []
  }
 ],
 "metadata": {
  "anaconda-cloud": {},
  "kernelspec": {
   "display_name": "Python [default]",
   "language": "python",
   "name": "python2"
  },
  "language_info": {
   "codemirror_mode": {
    "name": "ipython",
    "version": 2
   },
   "file_extension": ".py",
   "mimetype": "text/x-python",
   "name": "python",
   "nbconvert_exporter": "python",
   "pygments_lexer": "ipython2",
   "version": "2.7.12"
  }
 },
 "nbformat": 4,
 "nbformat_minor": 1
}
